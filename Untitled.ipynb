{
 "cells": [
  {
   "cell_type": "code",
   "execution_count": 7,
   "id": "3bd9f6ae-c704-4469-be42-970deb7dcdb2",
   "metadata": {},
   "outputs": [],
   "source": [
    "# !pip install yandex_tracker_client"
   ]
  },
  {
   "cell_type": "code",
   "execution_count": 25,
   "id": "d8619d78-e641-4292-a079-5bcae8349cd1",
   "metadata": {},
   "outputs": [],
   "source": [
    "from yandex_tracker_client import TrackerClient\n",
    "import sqlite3"
   ]
  },
  {
   "cell_type": "code",
   "execution_count": 26,
   "id": "4876ee22-16ca-4104-a692-826228bd8d9a",
   "metadata": {},
   "outputs": [
    {
     "data": {
      "text/plain": [
       "<sqlite3.Cursor at 0x20937fe1640>"
      ]
     },
     "execution_count": 26,
     "metadata": {},
     "output_type": "execute_result"
    }
   ],
   "source": [
    "# Создаем или открываем базу данных\n",
    "conn = sqlite3.connect('example.db')\n",
    "cursor = conn.cursor()\n",
    "# Создаем таблицу, если она еще не существует\n",
    "cursor.execute('''\n",
    "    CREATE TABLE IF NOT EXISTS dates_table (\n",
    "        id INTEGER PRIMARY KEY AUTOINCREMENT,\n",
    "        key TEXT UNIQUE,\n",
    "        date1 TEXT,\n",
    "        date2 TEXT\n",
    "    )\n",
    "''')"
   ]
  },
  {
   "cell_type": "code",
   "execution_count": 27,
   "id": "b64a79ae-0687-4c9a-855c-888fffadccdb",
   "metadata": {},
   "outputs": [],
   "source": [
    "# функция для сохранения записей в БД\n",
    "def save_to_db(key, date1, date2):\n",
    "    # Пытаемся вставить данные в базу\n",
    "    try:\n",
    "        cursor.execute('''\n",
    "            INSERT INTO dates_table (key, date1, date2) \n",
    "            VALUES (?, ?, ?)\n",
    "        ''', (key, date1, date2))\n",
    "        conn.commit()\n",
    "    except sqlite3.IntegrityError:\n",
    "        # Ключ уже существует в базе данных\n",
    "        print(f\"Key '{key}' already exists in the database.\")\n",
    "\n",
    "def fetch_all_records(table_name):\n",
    "    try:\n",
    "        # Формирование SQL-запроса для извлечения всех записей из таблицы\n",
    "        query = f\"SELECT * FROM {table_name}\"\n",
    "        cursor.execute(query)\n",
    "        # Получение всех записей\n",
    "        records = cursor.fetchall()\n",
    "    except sqlite3.Error as e:\n",
    "        print(f\"Ошибка при работе с SQLite: {e}\")\n",
    "        records = []\n",
    "    return records"
   ]
  },
  {
   "cell_type": "code",
   "execution_count": 28,
   "id": "48a1c2ce-88ae-42c6-b530-753445895fee",
   "metadata": {},
   "outputs": [],
   "source": [
    "# создаем подключение к yandex tracker\n",
    "lv_token = \"y0_AgAAAAAG8hr_AAzbPQAAAAEaNz6FAAD_CQ14-6pPerTIwFWw0KPjkG9ZSQ\"\n",
    "lv_orgId = \"7175997\"\n",
    "go_client = TrackerClient(token=lv_token, org_id=lv_orgId)"
   ]
  },
  {
   "cell_type": "code",
   "execution_count": 29,
   "id": "eb1862ab-6246-4d65-a324-842e96b705ad",
   "metadata": {},
   "outputs": [
    {
     "name": "stdout",
     "output_type": "stream",
     "text": [
      "TESTAVG-4 None 2024-11-27T14:31:23.330+0000\n",
      "Key 'TESTAVG-4' already exists in the database.\n"
     ]
    }
   ],
   "source": [
    "\n",
    "lv_key = \"TESTAVG-4\"\n",
    "lv_deadline = None\n",
    "lv_update = None\n",
    "\n",
    "# получаем значение задачи \n",
    "go_issue = go_client.issues[lv_key]\n",
    "lv_deadline = go_issue.deadline\n",
    "lv_update = go_issue.updatedAt\n",
    "print(lv_key, lv_deadline, lv_update)\n",
    "\n",
    "# сохраняем в БД\n",
    "save_to_db(lv_key, lv_deadline, lv_update)"
   ]
  },
  {
   "cell_type": "code",
   "execution_count": 30,
   "id": "b976d80c-963b-4a14-8f06-db294ed2d305",
   "metadata": {},
   "outputs": [
    {
     "data": {
      "text/plain": [
       "[(1, 'TESTAVG-4', None, '2024-11-27T14:31:23.330+0000')]"
      ]
     },
     "execution_count": 30,
     "metadata": {},
     "output_type": "execute_result"
    }
   ],
   "source": [
    "fetch_all_records(\"dates_table\")"
   ]
  },
  {
   "cell_type": "code",
   "execution_count": 32,
   "id": "24daf0e3-edc6-4eee-8937-25a827091dba",
   "metadata": {},
   "outputs": [],
   "source": [
    "# Закрытие курсора и соединения\n",
    "cursor.close()\n",
    "conn.close()"
   ]
  },
  {
   "cell_type": "code",
   "execution_count": null,
   "id": "3a578cf9-8805-480a-92cb-9c8300b0fb66",
   "metadata": {},
   "outputs": [],
   "source": []
  }
 ],
 "metadata": {
  "kernelspec": {
   "display_name": "Python 3 (ipykernel)",
   "language": "python",
   "name": "python3"
  },
  "language_info": {
   "codemirror_mode": {
    "name": "ipython",
    "version": 3
   },
   "file_extension": ".py",
   "mimetype": "text/x-python",
   "name": "python",
   "nbconvert_exporter": "python",
   "pygments_lexer": "ipython3",
   "version": "3.12.7"
  }
 },
 "nbformat": 4,
 "nbformat_minor": 5
}
